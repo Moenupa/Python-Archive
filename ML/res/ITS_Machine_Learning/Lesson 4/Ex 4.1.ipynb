{
 "cells": [
  {
   "cell_type": "code",
   "execution_count": 1,
   "metadata": {},
   "outputs": [],
   "source": [
    "%load_ext autoreload\n",
    "%autoreload 2\n",
    "%matplotlib inline\n",
    "import pandas as pd\n",
    "# pd.options.display.max_rows = 999\n",
    "import numpy as np\n",
    "import seaborn as sns; sns.set()\n",
    "import matplotlib.pyplot as plt\n",
    "from pprint import pprint"
   ]
  },
  {
   "cell_type": "markdown",
   "metadata": {},
   "source": [
    "- In this exercise, we will apply an extension of PCA, namely Sparse PCA, on sentiment analysis of Amazon review dataset (https://www.kaggle.com/bittlingmayer/amazonreviews).\n",
    "- Since the original dataset is huge, we only use the test set as our training and testing data."
   ]
  },
  {
   "cell_type": "markdown",
   "metadata": {},
   "source": [
    "# Import dataset\n",
    "- Load the text file containing 400K Amazon customer reviews using 'with open...'\n",
    "- Split the array loaded into dataframe df with two columns: review, sentiment\n",
    "- Given \\__label__1: 1/2 star(s) review, \\__label__2: 4/5 stars review, transform sentiment column by using mapping {'\\__label__1':0, '\\__label__2':1}"
   ]
  },
  {
   "cell_type": "code",
   "execution_count": 2,
   "metadata": {},
   "outputs": [
    {
     "data": {
      "text/html": [
       "<div>\n",
       "<style scoped>\n",
       "    .dataframe tbody tr th:only-of-type {\n",
       "        vertical-align: middle;\n",
       "    }\n",
       "\n",
       "    .dataframe tbody tr th {\n",
       "        vertical-align: top;\n",
       "    }\n",
       "\n",
       "    .dataframe thead th {\n",
       "        text-align: right;\n",
       "    }\n",
       "</style>\n",
       "<table border=\"1\" class=\"dataframe\">\n",
       "  <thead>\n",
       "    <tr style=\"text-align: right;\">\n",
       "      <th></th>\n",
       "      <th>sentiment</th>\n",
       "      <th>review</th>\n",
       "    </tr>\n",
       "  </thead>\n",
       "  <tbody>\n",
       "    <tr>\n",
       "      <th>0</th>\n",
       "      <td>1</td>\n",
       "      <td>Great CD: My lovely Pat has one of the GREAT v...</td>\n",
       "    </tr>\n",
       "    <tr>\n",
       "      <th>1</th>\n",
       "      <td>1</td>\n",
       "      <td>One of the best game music soundtracks - for a...</td>\n",
       "    </tr>\n",
       "    <tr>\n",
       "      <th>2</th>\n",
       "      <td>0</td>\n",
       "      <td>Batteries died within a year ...: I bought thi...</td>\n",
       "    </tr>\n",
       "    <tr>\n",
       "      <th>3</th>\n",
       "      <td>1</td>\n",
       "      <td>works fine, but Maha Energy is better: Check o...</td>\n",
       "    </tr>\n",
       "    <tr>\n",
       "      <th>4</th>\n",
       "      <td>1</td>\n",
       "      <td>Great for the non-audiophile: Reviewed quite a...</td>\n",
       "    </tr>\n",
       "  </tbody>\n",
       "</table>\n",
       "</div>"
      ],
      "text/plain": [
       "   sentiment                                             review\n",
       "0          1  Great CD: My lovely Pat has one of the GREAT v...\n",
       "1          1  One of the best game music soundtracks - for a...\n",
       "2          0  Batteries died within a year ...: I bought thi...\n",
       "3          1  works fine, but Maha Energy is better: Check o...\n",
       "4          1  Great for the non-audiophile: Reviewed quite a..."
      ]
     },
     "execution_count": 2,
     "metadata": {},
     "output_type": "execute_result"
    }
   ],
   "source": [
    "# import amazon review data\n"
   ]
  },
  {
   "cell_type": "markdown",
   "metadata": {},
   "source": [
    "- Plot a bar chart to see the number of positive and negative labels."
   ]
  },
  {
   "cell_type": "code",
   "execution_count": 3,
   "metadata": {},
   "outputs": [
    {
     "data": {
      "image/png": "[encoded data removed]",
      "text/plain": [
       "<Figure size 432x288 with 1 Axes>"
      ]
     },
     "metadata": {},
     "output_type": "display_data"
    }
   ],
   "source": [
    "# bar chart showing value of two labels\n"
   ]
  },
  {
   "cell_type": "markdown",
   "metadata": {},
   "source": [
    "- Take a look at first 10 pieces of text"
   ]
  },
  {
   "cell_type": "code",
   "execution_count": 4,
   "metadata": {},
   "outputs": [
    {
     "data": {
      "text/plain": [
       "[['__label__2',\n",
       "  'Great CD: My lovely Pat has one of the GREAT voices of her generation. I have listened to this CD for YEARS and I still LOVE IT. When I\\'m in a good mood it makes me feel better. A bad mood just evaporates like sugar in the rain. This CD just oozes LIFE. Vocals are jusat STUUNNING and lyrics just kill. One of life\\'s hidden gems. This is a desert isle CD in my book. Why she never made it big is just beyond me. Everytime I play this, no matter black, white, young, old, male, female EVERYBODY says one thing \"Who was that singing ?\"\\n'],\n",
       " ['__label__2',\n",
       "  \"One of the best game music soundtracks - for a game I didn't really play: Despite the fact that I have only played a small portion of the game, the music I heard (plus the connection to Chrono Trigger which was great as well) led me to purchase the soundtrack, and it remains one of my favorite albums. There is an incredible mix of fun, epic, and emotional songs. Those sad and beautiful tracks I especially like, as there's not too many of those kinds of songs in my other video game soundtracks. I must admit that one of the songs (Life-A Distant Promise) has brought tears to my eyes on many occasions.My one complaint about this soundtrack is that they use guitar fretting effects in many of the songs, which I find distracting. But even if those weren't included I would still consider the collection worth it.\\n\"],\n",
       " ['__label__1',\n",
       "  'Batteries died within a year ...: I bought this charger in Jul 2003 and it worked OK for a while. The design is nice and convenient. However, after about a year, the batteries would not hold a charge. Might as well just get alkaline disposables, or look elsewhere for a charger that comes with batteries that have better staying power.\\n'],\n",
       " ['__label__2',\n",
       "  \"works fine, but Maha Energy is better: Check out Maha Energy's website. Their Powerex MH-C204F charger works in 100 minutes for rapid charge, with option for slower charge (better for batteries). And they have 2200 mAh batteries.\\n\"],\n",
       " ['__label__2',\n",
       "  \"Great for the non-audiophile: Reviewed quite a bit of the combo players and was hesitant due to unfavorable reviews and size of machines. I am weaning off my VHS collection, but don't want to replace them with DVD's. This unit is well built, easy to setup and resolution and special effects (no progressive scan for HDTV owners) suitable for many people looking for a versatile product.Cons- No universal remote.\\n\"],\n",
       " ['__label__1',\n",
       "  \"DVD Player crapped out after one year: I also began having the incorrect disc problems that I've read about on here. The VCR still works, but hte DVD side is useless. I understand that DVD players sometimes just quit on you, but after not even one year? To me that's a sign on bad quality. I'm giving up JVC after this as well. I'm sticking to Sony or giving another brand a shot.\\n\"],\n",
       " ['__label__1',\n",
       "  \"Incorrect Disc: I love the style of this, but after a couple years, the DVD is giving me problems. It doesn't even work anymore and I use my broken PS2 Now. I wouldn't recommend this, I'm just going to upgrade to a recorder now. I wish it would work but I guess i'm giving up on JVC. I really did like this one... before it stopped working. The dvd player gave me problems probably after a year of having it.\\n\"],\n",
       " ['__label__1',\n",
       "  \"DVD menu select problems: I cannot scroll through a DVD menu that is set up vertically. The triangle keys will only select horizontally. So I cannot select anything on most DVD's besides play. No special features, no language select, nothing, just play.\\n\"],\n",
       " ['__label__2',\n",
       "  'Unique Weird Orientalia from the 1930\\'s: Exotic tales of the Orient from the 1930\\'s. \"Dr Shen Fu\", a Weird Tales magazine reprint, is about the elixir of life that grants immortality at a price. If you\\'re tired of modern authors who all sound alike, this is the antidote for you. Owen\\'s palette is loaded with splashes of Chinese and Japanese colours. Marvelous.\\n'],\n",
       " ['__label__1',\n",
       "  'Not an \"ultimate guide\": Firstly,I enjoyed the format and tone of the book (how the author addressed the reader). However, I did not feel that she imparted any insider secrets that the book promised to reveal. If you are just starting to research law school, and do not know all the requirements of admission, then this book may be a tremendous help. If you have done your homework and are looking for an edge when it comes to admissions, I recommend some more topic-specific books. For example, books on how to write your personal statment, books geared specifically towards LSAT preparation (Powerscore books were the most helpful for me), and there are some websites with great advice geared towards aiding the individuals whom you are asking to write letters of recommendation. Yet, for those new to the entire affair, this book can definitely clarify the requirements for you.\\n']]"
      ]
     },
     "execution_count": 4,
     "metadata": {},
     "output_type": "execute_result"
    }
   ],
   "source": [
    "data[:10]"
   ]
  },
  {
   "cell_type": "markdown",
   "metadata": {},
   "source": [
    "- The dataset is still large, we would like to take a subset of 20k positive data and 20k negative data for our purpose.\n",
    "- Using df.groupby(), take a stratified sample of size 40k."
   ]
  },
  {
   "cell_type": "code",
   "execution_count": 5,
   "metadata": {},
   "outputs": [
    {
     "data": {
      "text/plain": [
       "1    20000\n",
       "0    20000\n",
       "Name: sentiment, dtype: int64"
      ]
     },
     "execution_count": 5,
     "metadata": {},
     "output_type": "execute_result"
    }
   ],
   "source": [
    "# stratified sampling of 40000 data\n"
   ]
  },
  {
   "cell_type": "markdown",
   "metadata": {},
   "source": [
    "# Text preprocessing\n",
    "- From the above samples, we can see that there are punctuations, line breaks and digits which are not very useful in predicting sentiment in the first sense.\n",
    "- Remove punctuations by using regex and Series.str.replace() and assign the result to a new column named 'clean_review'.\n",
    "- Remove line breaks and digits by using regex and Series.str.replace().\n",
    "- Convert clean reviews to lowercase using Series.str.lower()."
   ]
  },
  {
   "cell_type": "code",
   "execution_count": 6,
   "metadata": {},
   "outputs": [],
   "source": [
    "# remove punctuations \n"
   ]
  },
  {
   "cell_type": "code",
   "execution_count": 7,
   "metadata": {},
   "outputs": [],
   "source": [
    "# remove digits and line breaks\n"
   ]
  },
  {
   "cell_type": "markdown",
   "metadata": {},
   "source": [
    "# Calculate TF-IDF of text\n",
    "- Using sklearn TfidfVectorizer, extract tf-idf features from text column\n",
    "<!-- - Set stop_words parameter to 'english' to neglect stopwords -->"
   ]
  },
  {
   "cell_type": "code",
   "execution_count": 8,
   "metadata": {},
   "outputs": [
    {
     "name": "stdout",
     "output_type": "stream",
     "text": [
      "(40000, 99976)\n",
      "Wall time: 3.64 s\n"
     ]
    }
   ],
   "source": [
    "%%time\n",
    "from sklearn.feature_extraction.text import TfidfVectorizer\n"
   ]
  },
  {
   "cell_type": "markdown",
   "metadata": {},
   "source": [
    "- Check the number of vocabularies we have in total, and print the first and last 500 vocabularies to see if there is any issue."
   ]
  },
  {
   "cell_type": "code",
   "execution_count": 9,
   "metadata": {},
   "outputs": [
    {
     "name": "stdout",
     "output_type": "stream",
     "text": [
      "vocab size 99976\n",
      "['__', '_____', '______', '_______', '_________________', '_a', '_basic_', '_betrayal', '_could_', '_currents', '_dark', '_descent', '_elements', '_except_', '_honoring', '_hostile', '_if', '_is_', '_k', '_may_', '_not_', '_perception_', '_please', '_real_', '_really_', '_ren_', '_seems_', '_should_', '_soul', '_spy', '_star', '_starship', '_taut_', '_the', '_thinking', '_this_is_major_crap_', '_truce', '_very_', '_will_', '_with_', 'aa', 'aaa', 'aaaaaaarrrrrrrrrggggghhhhh', 'aaaaaghwhat', 'aaaaahhhhhhhhhhhhhhvery', 'aaaaargh', 'aaaaarrrrrgggghhhhhhaaaaa', 'aaaah', 'aaaannnddd', 'aaaarghno', 'aaas', 'aac', 'aakers', 'aalayiah', 'aaliyah', 'aams', 'aana', 'aand', 'aanipada', 'aaos', 'aaragon', 'aardema', 'aardvark', 'aaron', 'aarons', 'aarp', 'aarrghtrite', 'aas', 'aasumes', 'aatrix', 'ab', 'aba', 'abacab', 'aback', 'abacus', 'abagail', 'abagailking', 'abandoment', 'abandon', 'abandoned', 'abandoning', 'abandonment', 'abandons', 'abandonso', 'abanes', 'abaraham', 'abarca', 'abarcaría', 'abashed', 'abasten', 'abate', 'abattoirmaybe', 'abaut', 'abba', 'abbado', 'abbaesque', 'abbey', 'abbeythieves', 'abbie', 'abbot', 'abbott', 'abbreviated', 'abbreviations', 'abby', 'abbys', 'abc', 'abcdont', 'abcfam', 'abcs', 'abd', 'abdallah', 'abdel', 'abdication', 'abdiel', 'abdo', 'abdomen', 'abdominal', 'abdu', 'abducted', 'abductee', 'abductionby', 'abductions', 'abducts', 'abdullah', 'abe', 'abecedarian', 'abecs', 'abecthe', 'abeit', 'abel', 'abeldifferent', 'abell', 'abelson', 'aber', 'abercrombie', 'aberration', 'abetting', 'abflottieren', 'abfm', 'abhor', 'abhorred', 'abhorrent', 'abhorring', 'abhorsen', 'abide', 'abiding', 'abiff', 'abigail', 'abilites', 'abilities', 'abilitiesgood', 'abilitiesmerits', 'ability', 'abilityi', 'abiltiy', 'abim', 'abin', 'abiotically', 'abismal', 'abit', 'abject', 'abjures', 'abkhazia', 'able', 'ableto', 'ablility', 'ablum', 'ablumcd', 'ablums', 'ably', 'abnormal', 'abnormally', 'aboard', 'abolished', 'abolol', 'abolutely', 'abominable', 'abominablepublishing', 'abomination', 'abominationi', 'abominations', 'abomniation', 'abondounce', 'aboot', 'aboout', 'aboriginal', 'aborigines', 'abort', 'aborted', 'abortion', 'abortions', 'aboslutely', 'abosolute', 'abosuletly', 'abottle', 'abotu', 'abou', 'abouat', 'abound', 'abounded', 'abounds', 'aboundsbefore', 'aboundthe', 'abount', 'abour', 'about', 'abouta', 'aboutall', 'aboutbnfragrance', 'aboutbut', 'aboutchrists', 'aboutdont', 'aboutespecially', 'aboutfalling', 'aboutfor', 'aboutgenerally', 'abouti', 'aboutif', 'aboutit', 'aboutlayout', 'aboutlike', 'aboutlosers', 'aboutmuch', 'aboutread', 'abouts', 'aboutshortly', 'aboutspecial', 'aboutspend', 'aboutthe', 'aboutthis', 'abouttobe', 'abouttograduate', 'abouttommy', 'aboutuh', 'aboutwith', 'aboutyou', 'aboutyour', 'abouut', 'above', 'aboveanyone', 'aboveaverage', 'abovebefore', 'aboveboard', 'abovedont', 'abovefly', 'aboveground', 'abovei', 'abovementioned', 'abovepay', 'abovepreviously', 'abovethus', 'abox', 'abp', 'abqaiq', 'abraham', 'abrahams', 'abrasionresistant', 'abrasive', 'abrasives', 'abravanels', 'abraxas', 'abreast', 'abreva', 'abreviation', 'abreviations', 'abridge', 'abridged', 'abridgedaudiobook', 'abridgement', 'abridging', 'abrigged', 'abripper', 'abroad', 'abrogates', 'abrsmi', 'abrupt', 'abruptly', 'abruptness', 'abruptthere', 'abs', 'absence', 'absencenice', 'absense', 'absent', 'absentanyway', 'absentiaif', 'absesive', 'absinthe', 'absoloute', 'absoloutly', 'absoltuely', 'absolultely', 'absolut', 'absolute', 'absolutelly', 'absolutely', 'absolutey', 'absoluting', 'absolutlely', 'absolutley', 'absolutly', 'absoluto', 'absoluty', 'absorb', 'absorbancy', 'absorbant', 'absorbed', 'absorbedthe', 'absorbency', 'absorbent', 'absorbentin', 'absorber', 'absorbing', 'absorbingi', 'absorbs', 'absorbsbut', 'absorbsit', 'absorbtionvanity', 'absorption', 'absorptive', 'absoultely', 'absoultly', 'absoulutely', 'absoutely', 'absoutly', 'abstain', 'abstinence', 'abstract', 'abstraction', 'abstractions', 'abstracts', 'abstruse', 'absulootly', 'absulutely', 'absulutly', 'absurb', 'absurd', 'absurdities', 'absurdity', 'absurdityand', 'absurdly', 'absurdmaking', 'absurdos', 'absurdthe', 'absymal', 'abthis', 'abu', 'abudantly', 'abuelo', 'abujamal', 'abundance', 'abundant', 'abundantly', 'abundent', 'aburra', 'aburrida', 'aburrir', 'abuse', 'abused', 'abuser', 'abusers', 'abuses', 'abusesame', 'abusesi', 'abusesuicidefemale', 'abusethe', 'abusewhile', 'abusing', 'abusive', 'abut', 'abvious', 'abxy', 'abysmal', 'abysmaldo', 'abysmally', 'abysmalnot', 'abyss', 'abyssal', 'abyssally', 'abyssmal', 'ac', 'acabar', 'acabo', 'acad', 'acadamy', 'academe', 'academia', 'academic', 'academically', 'academics', 'academicthere', 'academies', 'academy', 'academyawardwinning', 'academyi', 'academynearly', 'academys', 'acapella', 'acapellamother', 'acar', 'acatit', 'acc', 'accadian', 'accapella', 'accaplla', 'accedent', 'accelerate', 'accelerated', 'accelerates', 'accelerating', 'acceleration', 'accelerator', 'accent', 'accented', 'accenting', 'accents', 'accenttchuate', 'accentuate', 'accentuates', 'accepablebut', 'accept', 'acceptability', 'acceptabilitymost', 'acceptable', 'acceptablei', 'acceptablenoone', 'acceptably', 'acceptance', 'acceptanceit', 'acceptbut', 'acceptect', 'accepted', 'acceptedso', 'accepting', 'acception', 'accepts', 'accesable', 'accesaries', 'accesible', 'accesive', 'acceso', 'accesories', 'accesries', 'access', 'accessable', 'accessary', 'accessbile', 'accessed', 'accessi', 'accessibility', 'accessible', 'accessibleif', 'accessiblein', 'accessibly', 'accessing', 'accessjust', 'accessories', 'accessoriesand', 'accessorize', 'accessory', 'accessoryone', 'accessorys', 'accesss', 'accessthings', 'accesswhat', 'accident', 'accidental', 'accidentally', 'accidently', 'accidentmaybe', 'accidents', 'accidentthe', 'accidentyou', 'acclaim', 'acclaimed', 'acclaims', 'accolade', 'accolades', 'accolmplishment', 'accomanied', 'accomidate', 'accomidations', 'accommodate', 'accommodated', 'accommodates', 'accommodating', 'accommodations', 'accomodate', 'accomodates', 'accomodations', 'accompanied', 'accompanies', 'accompaniment', 'accompaniments', 'accompaning', 'accompanistcollaborator', 'accompany', 'accompanying', 'accompanyment', 'accompianment']\n",
      "['youngson', 'youngster', 'youngsters', 'youngthe', 'younguns', 'younkins', 'youno', 'younobody', 'younot', 'younote', 'younoticing', 'younreally', 'youoh', 'youonce', 'youooohhh', 'youor', 'youoverall', 'youp', 'youpaid', 'youpam', 'youprince', 'youprobably', 'your', 'yourcoffee', 'youre', 'youread', 'youregistering', 'youresef', 'youretrying', 'yourimagination', 'youronnie', 'yourown', 'yourphone', 'yourre', 'yours', 'yoursa', 'yourself', 'yourselfand', 'yourselfdont', 'yourselfer', 'yourselffitness', 'yourselffor', 'yourselfhis', 'yourselfi', 'yourselflike', 'yourselfno', 'yourselfperhaps', 'yourselfsignedcrnelson', 'yourselfthank', 'yourselfthe', 'yourselftherefore', 'yourselfunless', 'yourselfwhat', 'yourselfyoull', 'yourselves', 'yourshazhin', 'yoursi', 'yourslef', 'yoursoverall', 'yous', 'youscott', 'youself', 'youseriously', 'youset', 'youshirley', 'yousincerely', 'youso', 'yousoftrock', 'yousoftware', 'youstories', 'yout', 'youtermite', 'youth', 'youthanazia', 'youthank', 'youthanksmel', 'youthats', 'youthdew', 'youthe', 'youtheir', 'youthen', 'youthere', 'youthful', 'youthis', 'youthreaders', 'youths', 'youtry', 'youtube', 'youtubers', 'youtubethis', 'youve', 'youwant', 'youwaste', 'youwatch', 'youwhich', 'youwill', 'youxpander', 'youyes', 'youyou', 'youz', 'yowl', 'yowling', 'yowza', 'yoyo', 'yoyoma', 'yoyos', 'yp', 'ypou', 'yr', 'yrd', 'yrds', 'yrhas', 'yrold', 'yrolds', 'yrs', 'yrself', 'yrsis', 'yrspurchased', 'yrthe', 'ysl', 'ytm', 'yu', 'yuch', 'yuck', 'yucka', 'yuckbottom', 'yuckiest', 'yuckssss', 'yuckwere', 'yucky', 'yue', 'yuen', 'yugi', 'yugioh', 'yugiohpsdont', 'yugo', 'yugoslav', 'yugoslavia', 'yui', 'yuk', 'yukhaving', 'yukjust', 'yuknavitch', 'yukon', 'yul', 'yule', 'yum', 'yummilicious', 'yumminess', 'yummmm', 'yummmy', 'yummo', 'yummy', 'yumyum', 'yun', 'yuna', 'yunfat', 'yunfatjohn', 'yung', 'yuo', 'yuove', 'yup', 'yupp', 'yuppieness', 'yuppies', 'yupthese', 'yur', 'yurovsky', 'yurself', 'yusef', 'yust', 'yustman', 'yusuf', 'yuugi', 'yuuzhan', 'yuzhan', 'yves', 'yvonne', 'yyes', 'yyh', 'za', 'zabaglione', 'zach', 'zachariasa', 'zachary', 'zack', 'zade', 'zaftig', 'zag', 'zagg', 'zagging', 'zags', 'zahn', 'zahns', 'zaida', 'zaire', 'zaius', 'zak', 'zakk', 'zakks', 'zam', 'zambelli', 'zambos', 'zamora', 'zan', 'zand', 'zandalee', 'zandaleewhat', 'zane', 'zanes', 'zangief', 'zanja', 'zantrex', 'zanuck', 'zany', 'zanzibar', 'zao', 'zap', 'zapatistas', 'zapp', 'zappa', 'zappas', 'zapped', 'zappedalso', 'zapper', 'zappers', 'zapping', 'zapruder', 'zaps', 'zapzyt', 'zarafina', 'zasu', 'zauberflöterecordingswith', 'zaurus', 'zd', 'zeal', 'zealand', 'zealandbornaussiehottie', 'zealot', 'zealotry', 'zealots', 'zealous', 'zealousness', 'zebra', 'zedd', 'zedong', 'zeel', 'zeena', 'zeffirelli', 'zehme', 'zehmes', 'zeisel', 'zekk', 'zekks', 'zel', 'zelco', 'zelda', 'zeldamariostar', 'zelia', 'zell', 'zellweger', 'zelmani', 'zen', 'zender', 'zenger', 'zeni', 'zenith', 'zenithlg', 'zeniths', 'zenlike', 'zeno', 'zenos', 'zens', 'zenster', 'zeo', 'zep', 'zephaniah', 'zeppelin', 'zeppelinqueenacdcrolling', 'zeppelinthe', 'zeppellin', 'zepplin', 'zero', 'zeroand', 'zeroas', 'zeroes', 'zerogravity', 'zerolotline', 'zeroone', 'zeros', 'zerostar', 'zerovinteum', 'zeroxed', 'zest', 'zester', 'zesting', 'zestthis', 'zesty', 'zeta', 'zetajones', 'zeus', 'zhane', 'zhang', 'zhangs', 'zhenyas', 'zia', 'zibart', 'zibra', 'zico', 'ziemba', 'ziemlich', 'ziethen', 'zifnab', 'zig', 'ziggy', 'ziggys', 'zigs', 'zigzag', 'zilch', 'zilchi', 'zilisofts', 'zilla', 'zillion', 'zillionaire', 'zillions', 'zim', 'zimmer', 'zimmerman', 'zimmit', 'zimnik', 'zin', 'zinc', 'zinczenko', 'zindel', 'zine', 'zing', 'zinger', 'zingers', 'zinging', 'zingy', 'zinmans', 'zino', 'zinoviev', 'zion', 'zionist', 'zip', 'zipit', 'ziplinq', 'ziploc', 'ziplock', 'ziplocks', 'zipopen', 'zipped', 'zipper', 'zippered', 'zippers', 'zipping', 'zippy', 'zips', 'zipsided', 'zircon', 'ziriguiboom', 'zirin', 'ziscs', 'zise', 'zissou', 'zits', 'ziyi', 'zjones', 'zl', 'zmovies', 'zmuda', 'zmudas', 'znd', 'zo', 'zobel', 'zodiac', 'zoe', 'zoegirl', 'zoes', 'zoetrope', 'zofran', 'zoids', 'zoji', 'zojirushhi', 'zojirushi', 'zojirushiother', 'zojrushi', 'zokkomon', 'zombi', 'zombie', 'zombiefilmbooks', 'zombiefilmen', 'zombieghostmushroom', 'zombiehorror', 'zombiekilling', 'zombielike', 'zombies', 'zombiesknowing', 'zombiesthis', 'zombiez', 'zomcom', 'zometool', 'zona', 'zone', 'zonealarm', 'zoneand', 'zonebig', 'zonemagic', 'zonemy', 'zoneplay', 'zones', 'zonesand', 'zonjic', 'zoo', 'zookeeper', 'zoom', 'zoomaroundtheroom', 'zoombrowser', 'zoombuyer', 'zoomed', 'zooming', 'zoomnikkor', 'zooms', 'zoot', 'zophars', 'zorro', 'zorroinspired', 'zorrolike', 'zorros', 'zours', 'zoya', 'zpcopenor', 'zr', 'zretc', 'zro', 'zros', 'zrs', 'zruroni', 'zs', 'zsa', 'ztransform', 'zu', 'zucchini', 'zuck', 'zuco', 'zuina', 'zukav', 'zuke', 'zulu', 'zumanity', 'zumba', 'zune', 'zunethere', 'zunethis', 'zurg', 'zurgs', 'zurito', 'zuviel', 'zuzaki', 'zwadoo', 'zwan', 'zwingli', 'zydeco', 'zydecoooo', 'zygotic', 'zyliss', 'zyrka', 'zyrkas', 'zyteltype', 'zyxel', 'zz', 'zzxjoanw', 'zzz', 'zzzthe', 'zzzz', 'zzzzz', 'zzzzzz', 'zzzzzzz', 'zzzzzzzz', 'zzzzzzzzzz', 'zzzzzzzzzzzz', 'zzzzzzzzzzzzzzz', 'zzzzzzzzzzzzzzzz', 'zzzzzzzzzzzzzzzzzzz', 'zzzzzzzzzzzzzzzzzzzzzzz', 'zzzzzzzzzzzzzzzzzzzzzzzzz', 'écrire', 'écrit', 'él', 'época', 'éste', 'éxitos', 'índice', 'últil', 'últimas', 'último', 'único', 'útilyo', 'über']\n"
     ]
    }
   ],
   "source": [
    "print('vocab size', len(vectorizer.get_feature_names()))\n",
    "print(vectorizer.get_feature_names()[:500])\n",
    "print(vectorizer.get_feature_names()[-500:])"
   ]
  },
  {
   "cell_type": "markdown",
   "metadata": {},
   "source": [
    "There are many expressions with underlines. One could search for some of them in review using Series.str.contains(), and sees that some of these has actual emotional meaning, so let's keep them first."
   ]
  },
  {
   "cell_type": "code",
   "execution_count": 10,
   "metadata": {},
   "outputs": [
    {
     "data": {
      "text/plain": [
       "<40000x99976 sparse matrix of type '<class 'numpy.float64'>'\n",
       "\twith 2181092 stored elements in Compressed Sparse Row format>"
      ]
     },
     "execution_count": 10,
     "metadata": {},
     "output_type": "execute_result"
    }
   ],
   "source": [
    "X"
   ]
  },
  {
   "cell_type": "markdown",
   "metadata": {},
   "source": [
    "# Apply Sparse PCA for dimensional reduction"
   ]
  },
  {
   "cell_type": "markdown",
   "metadata": {},
   "source": [
    "- X is a <b>sparse matrix</b>, meaning it consists mostly of 0, because in a review it usually contains only few words of the vocabulary list. It is stored in Python as compressed sparse matrix (csr_matrix), which is different from normal np.array to maximize storing efficiency.\n",
    "- Before applying Sparse PCA, one have to use Truncated SVD (Single Value Decomposition) to <b>transform the sparse array into dense array first</b>.\n",
    "- Using sklearn <b>TruncatedSVD</b> with parameters n_components=100, n_iter=10, random_state=42, transform sparse matrix X into a dense matrix X_svd."
   ]
  },
  {
   "cell_type": "code",
   "execution_count": 11,
   "metadata": {},
   "outputs": [
    {
     "name": "stdout",
     "output_type": "stream",
     "text": [
      "X_svd.shape (40000, 1000)\n",
      "svd explained variance 0.4256504492802775\n",
      "Wall time: 2min 24s\n"
     ]
    }
   ],
   "source": [
    "%%time\n",
    "from sklearn.decomposition import TruncatedSVD\n"
   ]
  },
  {
   "cell_type": "markdown",
   "metadata": {},
   "source": [
    "- Using sklearn <b>SparsePCA</b> with parameters n_components=10, random_state=42, perform dimensional reduction on X_svd to form new feature named X_spca with 10 dimensions only."
   ]
  },
  {
   "cell_type": "code",
   "execution_count": null,
   "metadata": {},
   "outputs": [],
   "source": [
    "%%time\n",
    "from sklearn.decomposition import SparsePCA\n"
   ]
  },
  {
   "cell_type": "markdown",
   "metadata": {},
   "source": [
    "# Train SVM model\n",
    "- First split dataset to train and test sets using X = df['clean_review'] and y = df['sentiment']"
   ]
  },
  {
   "cell_type": "code",
   "execution_count": null,
   "metadata": {},
   "outputs": [],
   "source": [
    "from sklearn.model_selection import train_test_split\n"
   ]
  },
  {
   "cell_type": "markdown",
   "metadata": {},
   "source": [
    "- Construct a pipeline using sklearn make_pipeline for TfidfVectorizer, TruncatedSVD, SparsePCA and SVC with linear kernel.\n",
    "- Validate model performance on test set using accuracy_score."
   ]
  },
  {
   "cell_type": "code",
   "execution_count": null,
   "metadata": {},
   "outputs": [],
   "source": [
    "%%time\n",
    "# make model pipeline and fit train data\n",
    "from sklearn.svm import SVC\n",
    "from sklearn.pipeline import make_pipeline\n",
    "from sklearn.metrics import accuracy_score\n"
   ]
  },
  {
   "cell_type": "markdown",
   "metadata": {},
   "source": [
    "- Construct another pipeline without TruncatedSVD and SparsePCA.\n",
    "- Validate model performance on test set using accuracy_score."
   ]
  },
  {
   "cell_type": "code",
   "execution_count": null,
   "metadata": {},
   "outputs": [],
   "source": [
    "%%time\n",
    "# model without svd spca\n"
   ]
  },
  {
   "cell_type": "markdown",
   "metadata": {},
   "source": [
    "Prediction using SVD and PCA <b>sacrifices 10% accuracy for 10 times shorter computational time</b>. Therefore it could be used for a fast testing purpose under the circumstances."
   ]
  },
  {
   "cell_type": "code",
   "execution_count": null,
   "metadata": {},
   "outputs": [],
   "source": []
  }
 ],
 "metadata": {
  "kernelspec": {
   "display_name": "Python 3",
   "language": "python",
   "name": "python3"
  },
  "language_info": {
   "codemirror_mode": {
    "name": "ipython",
    "version": 3
   },
   "file_extension": ".py",
   "mimetype": "text/x-python",
   "name": "python",
   "nbconvert_exporter": "python",
   "pygments_lexer": "ipython3",
   "version": "3.8.5"
  },
  "toc": {
   "base_numbering": 1,
   "nav_menu": {},
   "number_sections": true,
   "sideBar": true,
   "skip_h1_title": false,
   "title_cell": "Table of Contents",
   "title_sidebar": "Contents",
   "toc_cell": false,
   "toc_position": {
    "height": "calc(100% - 180px)",
    "left": "10px",
    "top": "150px",
    "width": "225.594px"
   },
   "toc_section_display": true,
   "toc_window_display": true
  }
 },
 "nbformat": 4,
 "nbformat_minor": 4
}
